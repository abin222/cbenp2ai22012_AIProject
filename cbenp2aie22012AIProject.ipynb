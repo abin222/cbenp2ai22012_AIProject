{
  "nbformat": 4,
  "nbformat_minor": 0,
  "metadata": {
    "colab": {
      "provenance": []
    },
    "kernelspec": {
      "name": "python3",
      "display_name": "Python 3"
    },
    "language_info": {
      "name": "python"
    }
  },
  "cells": [
    {
      "cell_type": "code",
      "source": [
        "import math"
      ],
      "metadata": {
        "id": "oqGvsTmg5y1B"
      },
      "execution_count": 1,
      "outputs": []
    },
    {
      "cell_type": "code",
      "execution_count": 2,
      "metadata": {
        "id": "4nv-qgZt2Sv4"
      },
      "outputs": [],
      "source": [
        "class Node:\n",
        "    def __init__(self, data, children=None):\n",
        "        self.data = data\n",
        "        self.children = children if children is not None else []\n",
        "\n",
        "    def has_children(self):\n",
        "        return bool(self.children)\n",
        "\n",
        "    def children(self):\n",
        "        return self.children"
      ]
    },
    {
      "cell_type": "code",
      "source": [
        "def get_subsets(nodes, size):\n",
        "    return chain.from_iterable(combinations(nodes, r) for r in range(1, size+1))\n",
        "\n",
        "def min_weight(nodes):\n",
        "    return min(sum(weight for _, _, weight in get_neighbors(u, v)) for u, v in combinations(nodes, 2))\n",
        "\n",
        "def get_neighbors(u, v, graph):\n",
        "    return [(u, v, weight) for u, v, weight in graph if (u, v) in [(u, v), (v, u)]]\n",
        "\n",
        "def max_weight(node, graph):\n",
        "    return max(weight for _, _, weight in get_neighbors(node, graph))"
      ],
      "metadata": {
        "id": "z_QoTQN25EVt"
      },
      "execution_count": 3,
      "outputs": []
    },
    {
      "cell_type": "code",
      "source": [
        "def is_feasible(nodes):\n",
        "    return is_connected(nodes)\n"
      ],
      "metadata": {
        "id": "y0he-XZ05LWM"
      },
      "execution_count": 4,
      "outputs": []
    },
    {
      "cell_type": "code",
      "source": [
        "def get_maximum_possible_weight(nodes):\n",
        "    return sum(max_weight(node) for node in nodes)\n"
      ],
      "metadata": {
        "id": "VbOOZ61m5ObX"
      },
      "execution_count": 5,
      "outputs": []
    },
    {
      "cell_type": "code",
      "source": [
        "def is_connected(network, nodes):\n",
        "    visited = set()\n",
        "    queue = list(nodes)\n",
        "    while queue:\n",
        "        node = queue.pop(0)\n",
        "        if node not in visited:\n",
        "            visited.add(node)\n",
        "            for neighbor in get_neighbors(network, node):\n",
        "                if neighbor in nodes and neighbor not in visited:\n",
        "                    queue.append(neighbor)\n",
        "    return len(visited) == len(nodes)\n"
      ],
      "metadata": {
        "id": "po2zozyw5QqU"
      },
      "execution_count": 6,
      "outputs": []
    },
    {
      "cell_type": "code",
      "source": [
        "def get_minimum_possible_weight(nodes):\n",
        "    return sum(min_weight(node) for node in nodes)\n"
      ],
      "metadata": {
        "id": "WXb_4IeQ5S_W"
      },
      "execution_count": 7,
      "outputs": []
    },
    {
      "cell_type": "code",
      "source": [
        "def PARTITIONINGS(S0):\n",
        "    partitionings = []\n",
        "    for subset in get_subsets(S0):\n",
        "        partitionings.append(subset)\n",
        "    return partitionings\n"
      ],
      "metadata": {
        "id": "LZ72MpM25dG_"
      },
      "execution_count": 8,
      "outputs": []
    },
    {
      "cell_type": "code",
      "source": [
        "def LINEAR_SWEEP(T, S0, S1):\n",
        "    # Initialize the lower and upper bounds for the linear search\n",
        "    lower_bound = 0\n",
        "    upper_bound = get_maximum_possible_weight(S0 | S1)\n",
        "    \n",
        "    # Perform the linear search\n",
        "    for value in range(lower_bound, upper_bound + 1):\n",
        "        if is_feasible(T, S0 | S1, value):\n",
        "            return value\n",
        "    \n",
        "    # Return the optimal value found by the linear search\n",
        "    return upper_bound\n"
      ],
      "metadata": {
        "id": "HbraGI_V5hOL"
      },
      "execution_count": 9,
      "outputs": []
    },
    {
      "cell_type": "code",
      "source": [
        "def BINARY_SEARCH(T, S0):\n",
        "    # Initialize the lower and upper bounds for the binary search\n",
        "    lower_bound = 0\n",
        "    upper_bound = get_maximum_possible_weight(S0)\n",
        "    \n",
        "    # Perform the binary search\n",
        "    while lower_bound <= upper_bound:\n",
        "        mid = (lower_bound + upper_bound) // 2\n",
        "        if is_feasible(T, S0, mid):\n",
        "            upper_bound = mid - 1\n",
        "        else:\n",
        "            lower_bound = mid + 1\n",
        "    \n",
        "    # Return the optimal value found by the binary search\n",
        "    return lower_bound\n"
      ],
      "metadata": {
        "id": "YakXW5KS5jpW"
      },
      "execution_count": 10,
      "outputs": []
    },
    {
      "cell_type": "code",
      "source": [
        "def EXPANDABLE_NODES(T):\n",
        "    # Initialize an empty set to store the expandable nodes\n",
        "    expandable_nodes = set()\n",
        "    \n",
        "    # Iterate through each node in the tree\n",
        "    for node in T:\n",
        "        # If the node has children, add them to the set of expandable nodes\n",
        "        if node.has_children():\n",
        "            expandable_nodes |= set(node.children)\n",
        "    \n",
        "    return expandable_nodes\n"
      ],
      "metadata": {
        "id": "hR1afI_M5loH"
      },
      "execution_count": 11,
      "outputs": []
    },
    {
      "cell_type": "code",
      "source": [
        "def fU(T):\n",
        "    # Initialize the upper bound to 0\n",
        "    upper_bound = 0\n",
        "    \n",
        "    # Calculate the upper bound by adding the maximum possible weight\n",
        "    # for each pair of nodes in T that are not directly connected\n",
        "    for node1 in T:\n",
        "        for node2 in T:\n",
        "            if node1 != node2 and not is_connected(node1, node2):\n",
        "                upper_bound += get_maximum_possible_weight(node1, node2)\n",
        "                \n",
        "    return upper_bound\n"
      ],
      "metadata": {
        "id": "Agkwz0kW5pIc"
      },
      "execution_count": 12,
      "outputs": []
    },
    {
      "cell_type": "code",
      "source": [
        "def fL(T):\n",
        "    # Initialize the lower bound to 0\n",
        "    lower_bound = 0\n",
        "    \n",
        "    # Calculate the lower bound by adding the minimum possible weight\n",
        "    # for each pair of nodes in T that are not directly connected\n",
        "    for node1 in T:\n",
        "        for node2 in T:\n",
        "            if node1 != node2 and not is_connected(node1, node2):\n",
        "                lower_bound += get_minimum_possible_weight(node1, node2)\n",
        "                \n",
        "    return lower_bound\n"
      ],
      "metadata": {
        "id": "jlbdaJF15s-s"
      },
      "execution_count": 13,
      "outputs": []
    },
    {
      "cell_type": "code",
      "source": [
        "def NETWORK_OPT(T, M):\n",
        "    global N, c\n",
        "    if fL(T) >= fL(T) + c or fU(T) <= fL(T) - c:\n",
        "        return N,c\n",
        "    S0, S1, S2 = EXPANDABLE_NODES(T)\n",
        "    if not S0:\n",
        "        N, c = T, abs(f(T) - f(T))\n",
        "    elif not S1 and len(S0) <= M:\n",
        "        T0 = T | BINARY_SEARCH(T, S0) - S0\n",
        "        NETWORK_OPT(T0, M)\n",
        "    elif not S2 and max(len(S0), len(S1)) <= M:\n",
        "        T0 = T | LINEAR_SWEEP(T, S0, S1) - S0 - S1\n",
        "        NETWORK_OPT(T0, M)\n",
        "    else:\n",
        "        for P in PARTITIONINGS(S0):\n",
        "            T0 = T | P - S0\n",
        "            NETWORK_OPT(T0, M)"
      ],
      "metadata": {
        "id": "kflJLA-95xtz"
      },
      "execution_count": 23,
      "outputs": []
    },
    {
      "cell_type": "code",
      "source": [
        "class TreeNode:\n",
        "    def __init__(self, node_id, node_weight, children=None):\n",
        "        self.node_id = node_id\n",
        "        self.node_weight = node_weight\n",
        "        self.children = children if children else []\n",
        "        \n"
      ],
      "metadata": {
        "id": "06x8jxY861gm"
      },
      "execution_count": 26,
      "outputs": []
    },
    {
      "cell_type": "code",
      "source": [
        "# Define the decomposition tree with a singular node\n",
        "# Create the root node\n",
        "root = TreeNode(node_id=1, node_weight=5)\n",
        "\n",
        "# Create child nodes\n",
        "child1 = TreeNode(node_id=2, node_weight=3)\n",
        "child2 = TreeNode(node_id=3, node_weight=4)\n",
        "child3 = TreeNode(node_id=4, node_weight=2)\n",
        "\n",
        "# Add child nodes to the root node\n",
        "root.children = [child1, child2, child3]\n",
        "\n",
        "# Define the maximum subset size for tabulation\n",
        "M = 4\n",
        "\n",
        "# Define the desired network function\n",
        "def fT(network):\n",
        "    return sum(node.node_weight for node in network)\n",
        "\n",
        "# Call the NETWORK-OPT function\n",
        "network, cost = NETWORK_OPT(root, M)\n",
        "\n",
        "# Print the minimum cost network\n",
        "print(\"Minimum Cost Network:\")\n",
        "for node in network:\n",
        "    print(node.node_id, node.node_weight)\n",
        "print(\"Cost:\", cost)"
      ],
      "metadata": {
        "id": "Wjvr7pnv6Zdz"
      },
      "execution_count": null,
      "outputs": []
    }
  ]
}